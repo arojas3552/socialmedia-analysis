{
 "cells": [
  {
   "cell_type": "markdown",
   "id": "688f9c48",
   "metadata": {
    "papermill": {
     "duration": 0.006728,
     "end_time": "2023-12-02T01:10:22.764110",
     "exception": false,
     "start_time": "2023-12-02T01:10:22.757382",
     "status": "completed"
    },
    "tags": []
   },
   "source": [
    "# Health and Social Media. "
   ]
  },
  {
   "cell_type": "markdown",
   "id": "4d61d222",
   "metadata": {
    "papermill": {
     "duration": 0.004621,
     "end_time": "2023-12-02T01:10:22.773603",
     "exception": false,
     "start_time": "2023-12-02T01:10:22.768982",
     "status": "completed"
    },
    "tags": []
   },
   "source": [
    "### Processing"
   ]
  },
  {
   "cell_type": "code",
   "execution_count": 1,
   "id": "ee30b960",
   "metadata": {
    "_cell_guid": "b1076dfc-b9ad-4769-8c92-a6c4dae69d19",
    "_uuid": "8f2839f25d086af736a60e9eeb907d3b93b6e0e5",
    "execution": {
     "iopub.execute_input": "2023-12-02T01:10:22.784808Z",
     "iopub.status.busy": "2023-12-02T01:10:22.784462Z",
     "iopub.status.idle": "2023-12-02T01:10:23.047289Z",
     "shell.execute_reply": "2023-12-02T01:10:23.046579Z"
    },
    "papermill": {
     "duration": 0.27088,
     "end_time": "2023-12-02T01:10:23.049232",
     "exception": false,
     "start_time": "2023-12-02T01:10:22.778352",
     "status": "completed"
    },
    "tags": []
   },
   "outputs": [],
   "source": [
    "import pandas as pd # data processing\n",
    "import matplotlib.pyplot as mp #plotting"
   ]
  },
  {
   "cell_type": "code",
   "execution_count": 2,
   "id": "3f2be8a9",
   "metadata": {
    "execution": {
     "iopub.execute_input": "2023-12-02T01:10:23.060536Z",
     "iopub.status.busy": "2023-12-02T01:10:23.060220Z",
     "iopub.status.idle": "2023-12-02T01:10:23.117452Z",
     "shell.execute_reply": "2023-12-02T01:10:23.116671Z"
    },
    "papermill": {
     "duration": 0.065238,
     "end_time": "2023-12-02T01:10:23.119695",
     "exception": false,
     "start_time": "2023-12-02T01:10:23.054457",
     "status": "completed"
    },
    "tags": []
   },
   "outputs": [
    {
     "data": {
      "text/html": [
       "<div>\n",
       "<style scoped>\n",
       "    .dataframe tbody tr th:only-of-type {\n",
       "        vertical-align: middle;\n",
       "    }\n",
       "\n",
       "    .dataframe tbody tr th {\n",
       "        vertical-align: top;\n",
       "    }\n",
       "\n",
       "    .dataframe thead th {\n",
       "        text-align: right;\n",
       "    }\n",
       "</style>\n",
       "<table border=\"1\" class=\"dataframe\">\n",
       "  <thead>\n",
       "    <tr style=\"text-align: right;\">\n",
       "      <th></th>\n",
       "      <th>id</th>\n",
       "      <th>platforms_used</th>\n",
       "      <th>plat1</th>\n",
       "      <th>plat2</th>\n",
       "      <th>plat3</th>\n",
       "      <th>plat4</th>\n",
       "      <th>plat5</th>\n",
       "      <th>plat6</th>\n",
       "      <th>plat7</th>\n",
       "      <th>plat8</th>\n",
       "      <th>plat9</th>\n",
       "    </tr>\n",
       "  </thead>\n",
       "  <tbody>\n",
       "    <tr>\n",
       "      <th>0</th>\n",
       "      <td>0</td>\n",
       "      <td>Facebook, Twitter, Instagram, YouTube, Discord...</td>\n",
       "      <td>Facebook</td>\n",
       "      <td>Twitter</td>\n",
       "      <td>Instagram</td>\n",
       "      <td>YouTube</td>\n",
       "      <td>Discord</td>\n",
       "      <td>Reddit</td>\n",
       "      <td>NaN</td>\n",
       "      <td>NaN</td>\n",
       "      <td>NaN</td>\n",
       "    </tr>\n",
       "    <tr>\n",
       "      <th>1</th>\n",
       "      <td>1</td>\n",
       "      <td>Facebook, Twitter, Instagram, YouTube, Discord...</td>\n",
       "      <td>Facebook</td>\n",
       "      <td>Twitter</td>\n",
       "      <td>Instagram</td>\n",
       "      <td>YouTube</td>\n",
       "      <td>Discord</td>\n",
       "      <td>Reddit</td>\n",
       "      <td>NaN</td>\n",
       "      <td>NaN</td>\n",
       "      <td>NaN</td>\n",
       "    </tr>\n",
       "    <tr>\n",
       "      <th>2</th>\n",
       "      <td>2</td>\n",
       "      <td>Facebook, Instagram, YouTube, Pinterest</td>\n",
       "      <td>Facebook</td>\n",
       "      <td>Instagram</td>\n",
       "      <td>YouTube</td>\n",
       "      <td>Pinterest</td>\n",
       "      <td>NaN</td>\n",
       "      <td>NaN</td>\n",
       "      <td>NaN</td>\n",
       "      <td>NaN</td>\n",
       "      <td>NaN</td>\n",
       "    </tr>\n",
       "    <tr>\n",
       "      <th>3</th>\n",
       "      <td>3</td>\n",
       "      <td>Facebook, Instagram</td>\n",
       "      <td>Facebook</td>\n",
       "      <td>Instagram</td>\n",
       "      <td>NaN</td>\n",
       "      <td>NaN</td>\n",
       "      <td>NaN</td>\n",
       "      <td>NaN</td>\n",
       "      <td>NaN</td>\n",
       "      <td>NaN</td>\n",
       "      <td>NaN</td>\n",
       "    </tr>\n",
       "    <tr>\n",
       "      <th>4</th>\n",
       "      <td>4</td>\n",
       "      <td>Facebook, Instagram, YouTube</td>\n",
       "      <td>Facebook</td>\n",
       "      <td>Instagram</td>\n",
       "      <td>YouTube</td>\n",
       "      <td>NaN</td>\n",
       "      <td>NaN</td>\n",
       "      <td>NaN</td>\n",
       "      <td>NaN</td>\n",
       "      <td>NaN</td>\n",
       "      <td>NaN</td>\n",
       "    </tr>\n",
       "  </tbody>\n",
       "</table>\n",
       "</div>"
      ],
      "text/plain": [
       "   id                                     platforms_used     plat1  \\\n",
       "0   0  Facebook, Twitter, Instagram, YouTube, Discord...  Facebook   \n",
       "1   1  Facebook, Twitter, Instagram, YouTube, Discord...  Facebook   \n",
       "2   2            Facebook, Instagram, YouTube, Pinterest  Facebook   \n",
       "3   3                                Facebook, Instagram  Facebook   \n",
       "4   4                       Facebook, Instagram, YouTube  Facebook   \n",
       "\n",
       "        plat2       plat3       plat4     plat5    plat6 plat7 plat8 plat9  \n",
       "0     Twitter   Instagram     YouTube   Discord   Reddit   NaN   NaN   NaN  \n",
       "1     Twitter   Instagram     YouTube   Discord   Reddit   NaN   NaN   NaN  \n",
       "2   Instagram     YouTube   Pinterest       NaN      NaN   NaN   NaN   NaN  \n",
       "3   Instagram         NaN         NaN       NaN      NaN   NaN   NaN   NaN  \n",
       "4   Instagram     YouTube         NaN       NaN      NaN   NaN   NaN   NaN  "
      ]
     },
     "execution_count": 2,
     "metadata": {},
     "output_type": "execute_result"
    }
   ],
   "source": [
    "df = pd.read_csv(\"/kaggle/input/social-media-and-mental-health/smmh.csv\")\n",
    "platform_wide = pd.read_csv(\"/kaggle/input/platform-list-wide/socialMediaPlatformsUsed.csv\")\n",
    "platform_wide.head()"
   ]
  },
  {
   "cell_type": "markdown",
   "id": "5c4f70a3",
   "metadata": {
    "papermill": {
     "duration": 0.004732,
     "end_time": "2023-12-02T01:10:23.129729",
     "exception": false,
     "start_time": "2023-12-02T01:10:23.124997",
     "status": "completed"
    },
    "tags": []
   },
   "source": [
    "### Data Cleaning and Processing\n",
    "\n",
    "- Reformat dates\n",
    "- Ages data type change to ints.\n",
    "- Change column names for readability\n",
    "- Remove null values\n",
    "- Convert Wide platform data to long"
   ]
  },
  {
   "cell_type": "markdown",
   "id": "2f88ff97",
   "metadata": {
    "papermill": {
     "duration": 0.005226,
     "end_time": "2023-12-02T01:10:23.139842",
     "exception": false,
     "start_time": "2023-12-02T01:10:23.134616",
     "status": "completed"
    },
    "tags": []
   },
   "source": [
    "# Data Cleaning"
   ]
  },
  {
   "cell_type": "code",
   "execution_count": 3,
   "id": "fddbb21b",
   "metadata": {
    "execution": {
     "iopub.execute_input": "2023-12-02T01:10:23.151504Z",
     "iopub.status.busy": "2023-12-02T01:10:23.150904Z",
     "iopub.status.idle": "2023-12-02T01:10:23.171497Z",
     "shell.execute_reply": "2023-12-02T01:10:23.170822Z"
    },
    "papermill": {
     "duration": 0.028415,
     "end_time": "2023-12-02T01:10:23.173235",
     "exception": false,
     "start_time": "2023-12-02T01:10:23.144820",
     "status": "completed"
    },
    "tags": []
   },
   "outputs": [
    {
     "name": "stdout",
     "output_type": "stream",
     "text": [
      "<class 'pandas.core.frame.DataFrame'>\n",
      "RangeIndex: 481 entries, 0 to 480\n",
      "Data columns (total 21 columns):\n",
      " #   Column                                                                                                                Non-Null Count  Dtype  \n",
      "---  ------                                                                                                                --------------  -----  \n",
      " 0   Timestamp                                                                                                             481 non-null    object \n",
      " 1   1. What is your age?                                                                                                  481 non-null    float64\n",
      " 2   2. Gender                                                                                                             481 non-null    object \n",
      " 3   3. Relationship Status                                                                                                481 non-null    object \n",
      " 4   4. Occupation Status                                                                                                  481 non-null    object \n",
      " 5   5. What type of organizations are you affiliated with?                                                                451 non-null    object \n",
      " 6   6. Do you use social media?                                                                                           481 non-null    object \n",
      " 7   7. What social media platforms do you commonly use?                                                                   481 non-null    object \n",
      " 8   8. What is the average time you spend on social media every day?                                                      481 non-null    object \n",
      " 9   9. How often do you find yourself using Social media without a specific purpose?                                      481 non-null    int64  \n",
      " 10  10. How often do you get distracted by Social media when you are busy doing something?                                481 non-null    int64  \n",
      " 11  11. Do you feel restless if you haven't used Social media in a while?                                                 481 non-null    int64  \n",
      " 12  12. On a scale of 1 to 5, how easily distracted are you?                                                              481 non-null    int64  \n",
      " 13  13. On a scale of 1 to 5, how much are you bothered by worries?                                                       481 non-null    int64  \n",
      " 14  14. Do you find it difficult to concentrate on things?                                                                481 non-null    int64  \n",
      " 15  15. On a scale of 1-5, how often do you compare yourself to other successful people through the use of social media?  481 non-null    int64  \n",
      " 16  16. Following the previous question, how do you feel about these comparisons, generally speaking?                     481 non-null    int64  \n",
      " 17  17. How often do you look to seek validation from features of social media?                                           481 non-null    int64  \n",
      " 18  18. How often do you feel depressed or down?                                                                          481 non-null    int64  \n",
      " 19  19. On a scale of 1 to 5, how frequently does your interest in daily activities fluctuate?                            481 non-null    int64  \n",
      " 20  20. On a scale of 1 to 5, how often do you face issues regarding sleep?                                               481 non-null    int64  \n",
      "dtypes: float64(1), int64(12), object(8)\n",
      "memory usage: 79.0+ KB\n"
     ]
    }
   ],
   "source": [
    "df.info()"
   ]
  },
  {
   "cell_type": "markdown",
   "id": "85692c8e",
   "metadata": {
    "papermill": {
     "duration": 0.004899,
     "end_time": "2023-12-02T01:10:23.183817",
     "exception": false,
     "start_time": "2023-12-02T01:10:23.178918",
     "status": "completed"
    },
    "tags": []
   },
   "source": [
    "### Column Renaming for easier recall:"
   ]
  },
  {
   "cell_type": "code",
   "execution_count": 4,
   "id": "792453b4",
   "metadata": {
    "execution": {
     "iopub.execute_input": "2023-12-02T01:10:23.195746Z",
     "iopub.status.busy": "2023-12-02T01:10:23.195457Z",
     "iopub.status.idle": "2023-12-02T01:10:23.201343Z",
     "shell.execute_reply": "2023-12-02T01:10:23.200808Z"
    },
    "papermill": {
     "duration": 0.013806,
     "end_time": "2023-12-02T01:10:23.202747",
     "exception": false,
     "start_time": "2023-12-02T01:10:23.188941",
     "status": "completed"
    },
    "tags": []
   },
   "outputs": [],
   "source": [
    "df = df.rename(columns = {'Timestamp': 'timestamp',\n",
    "                    '1. What is your age?':'age','2. Gender':'gender',\n",
    "                     '3. Relationship Status':'relationship_status',\n",
    "                     '4. Occupation Status':'occupation_status',\n",
    "                     '5. What type of organizations are you affiliated with?':'org_affiliation',\n",
    "                    '6. Do you use social media?':'social_media',\n",
    "                    '7. What social media platforms do you commonly use?': 'platforms_used',\n",
    "                    '8. What is the average time you spend on social media every day?': 'avg_daily_usage',\n",
    "                    '9. How often do you find yourself using Social media without a specific purpose?':'aimlessUse_time',\n",
    "                    '10. How often do you get distracted by Social media when you are busy doing something?':'distracted_time',\n",
    "                    \"11. Do you feel restless if you haven't used Social media in a while?\":'restlessness',\n",
    "                    '12. On a scale of 1 to 5, how easily distracted are you?':'distraction_rating',\n",
    "                    '13. On a scale of 1 to 5, how much are you bothered by worries?':'worried_rating',\n",
    "                    '14. Do you find it difficult to concentrate on things?':'difficultyConcentrating_rating',\n",
    "                    '15. On a scale of 1-5, how often do you compare yourself to other successful people through the use of social media?':'comparison_rating',\n",
    "                    '16. Following the previous question, how do you feel about these comparisons, generally speaking?':'comparison_feeling_rating',\n",
    "                    '17. How often do you look to seek validation from features of social media?':'validation_rating',\n",
    "                    '18. How often do you feel depressed or down?':'depression_rating',\n",
    "                    '19. On a scale of 1 to 5, how frequently does your interest in daily activities fluctuate?':'fluctInterest_rating',\n",
    "                    '20. On a scale of 1 to 5, how often do you face issues regarding sleep?':'sleepDifficulty_rating'})"
   ]
  },
  {
   "cell_type": "markdown",
   "id": "b789f9d7",
   "metadata": {
    "papermill": {
     "duration": 0.004847,
     "end_time": "2023-12-02T01:10:23.212657",
     "exception": false,
     "start_time": "2023-12-02T01:10:23.207810",
     "status": "completed"
    },
    "tags": []
   },
   "source": [
    "### Datatype Checks and conversions"
   ]
  },
  {
   "cell_type": "code",
   "execution_count": 5,
   "id": "bb062740",
   "metadata": {
    "execution": {
     "iopub.execute_input": "2023-12-02T01:10:23.224510Z",
     "iopub.status.busy": "2023-12-02T01:10:23.223845Z",
     "iopub.status.idle": "2023-12-02T01:10:23.245599Z",
     "shell.execute_reply": "2023-12-02T01:10:23.245067Z"
    },
    "papermill": {
     "duration": 0.029028,
     "end_time": "2023-12-02T01:10:23.247007",
     "exception": false,
     "start_time": "2023-12-02T01:10:23.217979",
     "status": "completed"
    },
    "tags": []
   },
   "outputs": [
    {
     "data": {
      "text/html": [
       "<div>\n",
       "<style scoped>\n",
       "    .dataframe tbody tr th:only-of-type {\n",
       "        vertical-align: middle;\n",
       "    }\n",
       "\n",
       "    .dataframe tbody tr th {\n",
       "        vertical-align: top;\n",
       "    }\n",
       "\n",
       "    .dataframe thead th {\n",
       "        text-align: right;\n",
       "    }\n",
       "</style>\n",
       "<table border=\"1\" class=\"dataframe\">\n",
       "  <thead>\n",
       "    <tr style=\"text-align: right;\">\n",
       "      <th></th>\n",
       "      <th>timestamp</th>\n",
       "      <th>age</th>\n",
       "      <th>gender</th>\n",
       "      <th>relationship_status</th>\n",
       "      <th>occupation_status</th>\n",
       "      <th>org_affiliation</th>\n",
       "      <th>social_media</th>\n",
       "      <th>platforms_used</th>\n",
       "      <th>avg_daily_usage</th>\n",
       "      <th>aimlessUse_time</th>\n",
       "      <th>...</th>\n",
       "      <th>restlessness</th>\n",
       "      <th>distraction_rating</th>\n",
       "      <th>worried_rating</th>\n",
       "      <th>difficultyConcentrating_rating</th>\n",
       "      <th>comparison_rating</th>\n",
       "      <th>comparison_feeling_rating</th>\n",
       "      <th>validation_rating</th>\n",
       "      <th>depression_rating</th>\n",
       "      <th>fluctInterest_rating</th>\n",
       "      <th>sleepDifficulty_rating</th>\n",
       "    </tr>\n",
       "  </thead>\n",
       "  <tbody>\n",
       "    <tr>\n",
       "      <th>0</th>\n",
       "      <td>4/18/2022 19:18:47</td>\n",
       "      <td>21.0</td>\n",
       "      <td>Male</td>\n",
       "      <td>In a relationship</td>\n",
       "      <td>University Student</td>\n",
       "      <td>University</td>\n",
       "      <td>Yes</td>\n",
       "      <td>Facebook, Twitter, Instagram, YouTube, Discord...</td>\n",
       "      <td>Between 2 and 3 hours</td>\n",
       "      <td>5</td>\n",
       "      <td>...</td>\n",
       "      <td>2</td>\n",
       "      <td>5</td>\n",
       "      <td>2</td>\n",
       "      <td>5</td>\n",
       "      <td>2</td>\n",
       "      <td>3</td>\n",
       "      <td>2</td>\n",
       "      <td>5</td>\n",
       "      <td>4</td>\n",
       "      <td>5</td>\n",
       "    </tr>\n",
       "    <tr>\n",
       "      <th>1</th>\n",
       "      <td>4/18/2022 19:19:28</td>\n",
       "      <td>21.0</td>\n",
       "      <td>Female</td>\n",
       "      <td>Single</td>\n",
       "      <td>University Student</td>\n",
       "      <td>University</td>\n",
       "      <td>Yes</td>\n",
       "      <td>Facebook, Twitter, Instagram, YouTube, Discord...</td>\n",
       "      <td>More than 5 hours</td>\n",
       "      <td>4</td>\n",
       "      <td>...</td>\n",
       "      <td>2</td>\n",
       "      <td>4</td>\n",
       "      <td>5</td>\n",
       "      <td>4</td>\n",
       "      <td>5</td>\n",
       "      <td>1</td>\n",
       "      <td>1</td>\n",
       "      <td>5</td>\n",
       "      <td>4</td>\n",
       "      <td>5</td>\n",
       "    </tr>\n",
       "    <tr>\n",
       "      <th>2</th>\n",
       "      <td>4/18/2022 19:25:59</td>\n",
       "      <td>21.0</td>\n",
       "      <td>Female</td>\n",
       "      <td>Single</td>\n",
       "      <td>University Student</td>\n",
       "      <td>University</td>\n",
       "      <td>Yes</td>\n",
       "      <td>Facebook, Instagram, YouTube, Pinterest</td>\n",
       "      <td>Between 3 and 4 hours</td>\n",
       "      <td>3</td>\n",
       "      <td>...</td>\n",
       "      <td>1</td>\n",
       "      <td>2</td>\n",
       "      <td>5</td>\n",
       "      <td>4</td>\n",
       "      <td>3</td>\n",
       "      <td>3</td>\n",
       "      <td>1</td>\n",
       "      <td>4</td>\n",
       "      <td>2</td>\n",
       "      <td>5</td>\n",
       "    </tr>\n",
       "    <tr>\n",
       "      <th>3</th>\n",
       "      <td>4/18/2022 19:29:43</td>\n",
       "      <td>21.0</td>\n",
       "      <td>Female</td>\n",
       "      <td>Single</td>\n",
       "      <td>University Student</td>\n",
       "      <td>University</td>\n",
       "      <td>Yes</td>\n",
       "      <td>Facebook, Instagram</td>\n",
       "      <td>More than 5 hours</td>\n",
       "      <td>4</td>\n",
       "      <td>...</td>\n",
       "      <td>1</td>\n",
       "      <td>3</td>\n",
       "      <td>5</td>\n",
       "      <td>3</td>\n",
       "      <td>5</td>\n",
       "      <td>1</td>\n",
       "      <td>2</td>\n",
       "      <td>4</td>\n",
       "      <td>3</td>\n",
       "      <td>2</td>\n",
       "    </tr>\n",
       "    <tr>\n",
       "      <th>4</th>\n",
       "      <td>4/18/2022 19:33:31</td>\n",
       "      <td>21.0</td>\n",
       "      <td>Female</td>\n",
       "      <td>Single</td>\n",
       "      <td>University Student</td>\n",
       "      <td>University</td>\n",
       "      <td>Yes</td>\n",
       "      <td>Facebook, Instagram, YouTube</td>\n",
       "      <td>Between 2 and 3 hours</td>\n",
       "      <td>3</td>\n",
       "      <td>...</td>\n",
       "      <td>4</td>\n",
       "      <td>4</td>\n",
       "      <td>5</td>\n",
       "      <td>5</td>\n",
       "      <td>3</td>\n",
       "      <td>3</td>\n",
       "      <td>3</td>\n",
       "      <td>4</td>\n",
       "      <td>4</td>\n",
       "      <td>1</td>\n",
       "    </tr>\n",
       "    <tr>\n",
       "      <th>...</th>\n",
       "      <td>...</td>\n",
       "      <td>...</td>\n",
       "      <td>...</td>\n",
       "      <td>...</td>\n",
       "      <td>...</td>\n",
       "      <td>...</td>\n",
       "      <td>...</td>\n",
       "      <td>...</td>\n",
       "      <td>...</td>\n",
       "      <td>...</td>\n",
       "      <td>...</td>\n",
       "      <td>...</td>\n",
       "      <td>...</td>\n",
       "      <td>...</td>\n",
       "      <td>...</td>\n",
       "      <td>...</td>\n",
       "      <td>...</td>\n",
       "      <td>...</td>\n",
       "      <td>...</td>\n",
       "      <td>...</td>\n",
       "      <td>...</td>\n",
       "    </tr>\n",
       "    <tr>\n",
       "      <th>476</th>\n",
       "      <td>5/21/2022 23:38:28</td>\n",
       "      <td>24.0</td>\n",
       "      <td>Male</td>\n",
       "      <td>Single</td>\n",
       "      <td>Salaried Worker</td>\n",
       "      <td>University, Private</td>\n",
       "      <td>Yes</td>\n",
       "      <td>Facebook, Instagram, YouTube</td>\n",
       "      <td>Between 2 and 3 hours</td>\n",
       "      <td>3</td>\n",
       "      <td>...</td>\n",
       "      <td>3</td>\n",
       "      <td>4</td>\n",
       "      <td>3</td>\n",
       "      <td>4</td>\n",
       "      <td>4</td>\n",
       "      <td>2</td>\n",
       "      <td>4</td>\n",
       "      <td>3</td>\n",
       "      <td>4</td>\n",
       "      <td>4</td>\n",
       "    </tr>\n",
       "    <tr>\n",
       "      <th>477</th>\n",
       "      <td>5/22/2022 0:01:05</td>\n",
       "      <td>26.0</td>\n",
       "      <td>Female</td>\n",
       "      <td>Married</td>\n",
       "      <td>Salaried Worker</td>\n",
       "      <td>University</td>\n",
       "      <td>Yes</td>\n",
       "      <td>Facebook, YouTube</td>\n",
       "      <td>Between 1 and 2 hours</td>\n",
       "      <td>2</td>\n",
       "      <td>...</td>\n",
       "      <td>2</td>\n",
       "      <td>3</td>\n",
       "      <td>4</td>\n",
       "      <td>4</td>\n",
       "      <td>4</td>\n",
       "      <td>2</td>\n",
       "      <td>4</td>\n",
       "      <td>4</td>\n",
       "      <td>4</td>\n",
       "      <td>1</td>\n",
       "    </tr>\n",
       "    <tr>\n",
       "      <th>478</th>\n",
       "      <td>5/22/2022 10:29:21</td>\n",
       "      <td>29.0</td>\n",
       "      <td>Female</td>\n",
       "      <td>Married</td>\n",
       "      <td>Salaried Worker</td>\n",
       "      <td>University</td>\n",
       "      <td>Yes</td>\n",
       "      <td>Facebook, YouTube</td>\n",
       "      <td>Between 2 and 3 hours</td>\n",
       "      <td>3</td>\n",
       "      <td>...</td>\n",
       "      <td>4</td>\n",
       "      <td>3</td>\n",
       "      <td>2</td>\n",
       "      <td>3</td>\n",
       "      <td>3</td>\n",
       "      <td>3</td>\n",
       "      <td>4</td>\n",
       "      <td>2</td>\n",
       "      <td>2</td>\n",
       "      <td>2</td>\n",
       "    </tr>\n",
       "    <tr>\n",
       "      <th>479</th>\n",
       "      <td>7/14/2022 19:33:47</td>\n",
       "      <td>21.0</td>\n",
       "      <td>Male</td>\n",
       "      <td>Single</td>\n",
       "      <td>University Student</td>\n",
       "      <td>University</td>\n",
       "      <td>Yes</td>\n",
       "      <td>Facebook, Twitter, Instagram, YouTube, Discord...</td>\n",
       "      <td>Between 2 and 3 hours</td>\n",
       "      <td>2</td>\n",
       "      <td>...</td>\n",
       "      <td>2</td>\n",
       "      <td>3</td>\n",
       "      <td>3</td>\n",
       "      <td>2</td>\n",
       "      <td>2</td>\n",
       "      <td>3</td>\n",
       "      <td>4</td>\n",
       "      <td>4</td>\n",
       "      <td>5</td>\n",
       "      <td>4</td>\n",
       "    </tr>\n",
       "    <tr>\n",
       "      <th>480</th>\n",
       "      <td>11/12/2022 13:16:50</td>\n",
       "      <td>53.0</td>\n",
       "      <td>Male</td>\n",
       "      <td>Married</td>\n",
       "      <td>Salaried Worker</td>\n",
       "      <td>Private</td>\n",
       "      <td>Yes</td>\n",
       "      <td>Facebook, YouTube</td>\n",
       "      <td>Less than an Hour</td>\n",
       "      <td>2</td>\n",
       "      <td>...</td>\n",
       "      <td>1</td>\n",
       "      <td>3</td>\n",
       "      <td>1</td>\n",
       "      <td>1</td>\n",
       "      <td>3</td>\n",
       "      <td>3</td>\n",
       "      <td>2</td>\n",
       "      <td>2</td>\n",
       "      <td>2</td>\n",
       "      <td>3</td>\n",
       "    </tr>\n",
       "  </tbody>\n",
       "</table>\n",
       "<p>481 rows × 21 columns</p>\n",
       "</div>"
      ],
      "text/plain": [
       "               timestamp   age  gender relationship_status  \\\n",
       "0     4/18/2022 19:18:47  21.0    Male   In a relationship   \n",
       "1     4/18/2022 19:19:28  21.0  Female              Single   \n",
       "2     4/18/2022 19:25:59  21.0  Female              Single   \n",
       "3     4/18/2022 19:29:43  21.0  Female              Single   \n",
       "4     4/18/2022 19:33:31  21.0  Female              Single   \n",
       "..                   ...   ...     ...                 ...   \n",
       "476   5/21/2022 23:38:28  24.0    Male              Single   \n",
       "477    5/22/2022 0:01:05  26.0  Female             Married   \n",
       "478   5/22/2022 10:29:21  29.0  Female             Married   \n",
       "479   7/14/2022 19:33:47  21.0    Male              Single   \n",
       "480  11/12/2022 13:16:50  53.0    Male             Married   \n",
       "\n",
       "      occupation_status      org_affiliation social_media  \\\n",
       "0    University Student           University          Yes   \n",
       "1    University Student           University          Yes   \n",
       "2    University Student           University          Yes   \n",
       "3    University Student           University          Yes   \n",
       "4    University Student           University          Yes   \n",
       "..                  ...                  ...          ...   \n",
       "476     Salaried Worker  University, Private          Yes   \n",
       "477     Salaried Worker           University          Yes   \n",
       "478     Salaried Worker           University          Yes   \n",
       "479  University Student           University          Yes   \n",
       "480     Salaried Worker              Private          Yes   \n",
       "\n",
       "                                        platforms_used        avg_daily_usage  \\\n",
       "0    Facebook, Twitter, Instagram, YouTube, Discord...  Between 2 and 3 hours   \n",
       "1    Facebook, Twitter, Instagram, YouTube, Discord...      More than 5 hours   \n",
       "2              Facebook, Instagram, YouTube, Pinterest  Between 3 and 4 hours   \n",
       "3                                  Facebook, Instagram      More than 5 hours   \n",
       "4                         Facebook, Instagram, YouTube  Between 2 and 3 hours   \n",
       "..                                                 ...                    ...   \n",
       "476                       Facebook, Instagram, YouTube  Between 2 and 3 hours   \n",
       "477                                  Facebook, YouTube  Between 1 and 2 hours   \n",
       "478                                  Facebook, YouTube  Between 2 and 3 hours   \n",
       "479  Facebook, Twitter, Instagram, YouTube, Discord...  Between 2 and 3 hours   \n",
       "480                                  Facebook, YouTube      Less than an Hour   \n",
       "\n",
       "     aimlessUse_time  ...  restlessness  distraction_rating  worried_rating  \\\n",
       "0                  5  ...             2                   5               2   \n",
       "1                  4  ...             2                   4               5   \n",
       "2                  3  ...             1                   2               5   \n",
       "3                  4  ...             1                   3               5   \n",
       "4                  3  ...             4                   4               5   \n",
       "..               ...  ...           ...                 ...             ...   \n",
       "476                3  ...             3                   4               3   \n",
       "477                2  ...             2                   3               4   \n",
       "478                3  ...             4                   3               2   \n",
       "479                2  ...             2                   3               3   \n",
       "480                2  ...             1                   3               1   \n",
       "\n",
       "     difficultyConcentrating_rating  comparison_rating  \\\n",
       "0                                 5                  2   \n",
       "1                                 4                  5   \n",
       "2                                 4                  3   \n",
       "3                                 3                  5   \n",
       "4                                 5                  3   \n",
       "..                              ...                ...   \n",
       "476                               4                  4   \n",
       "477                               4                  4   \n",
       "478                               3                  3   \n",
       "479                               2                  2   \n",
       "480                               1                  3   \n",
       "\n",
       "     comparison_feeling_rating  validation_rating  depression_rating  \\\n",
       "0                            3                  2                  5   \n",
       "1                            1                  1                  5   \n",
       "2                            3                  1                  4   \n",
       "3                            1                  2                  4   \n",
       "4                            3                  3                  4   \n",
       "..                         ...                ...                ...   \n",
       "476                          2                  4                  3   \n",
       "477                          2                  4                  4   \n",
       "478                          3                  4                  2   \n",
       "479                          3                  4                  4   \n",
       "480                          3                  2                  2   \n",
       "\n",
       "     fluctInterest_rating  sleepDifficulty_rating  \n",
       "0                       4                       5  \n",
       "1                       4                       5  \n",
       "2                       2                       5  \n",
       "3                       3                       2  \n",
       "4                       4                       1  \n",
       "..                    ...                     ...  \n",
       "476                     4                       4  \n",
       "477                     4                       1  \n",
       "478                     2                       2  \n",
       "479                     5                       4  \n",
       "480                     2                       3  \n",
       "\n",
       "[481 rows x 21 columns]"
      ]
     },
     "execution_count": 5,
     "metadata": {},
     "output_type": "execute_result"
    }
   ],
   "source": [
    "df.dtypes\n",
    "df"
   ]
  },
  {
   "cell_type": "markdown",
   "id": "1f650e97",
   "metadata": {
    "papermill": {
     "duration": 0.005498,
     "end_time": "2023-12-02T01:10:23.258026",
     "exception": false,
     "start_time": "2023-12-02T01:10:23.252528",
     "status": "completed"
    },
    "tags": []
   },
   "source": [
    "### Converting data types"
   ]
  },
  {
   "cell_type": "code",
   "execution_count": 6,
   "id": "23043167",
   "metadata": {
    "execution": {
     "iopub.execute_input": "2023-12-02T01:10:23.270342Z",
     "iopub.status.busy": "2023-12-02T01:10:23.269693Z",
     "iopub.status.idle": "2023-12-02T01:10:23.281728Z",
     "shell.execute_reply": "2023-12-02T01:10:23.280926Z"
    },
    "papermill": {
     "duration": 0.019996,
     "end_time": "2023-12-02T01:10:23.283466",
     "exception": false,
     "start_time": "2023-12-02T01:10:23.263470",
     "status": "completed"
    },
    "tags": []
   },
   "outputs": [
    {
     "data": {
      "text/plain": [
       "timestamp                         datetime64[ns]\n",
       "age                                        int64\n",
       "gender                                    object\n",
       "relationship_status                       object\n",
       "occupation_status                         object\n",
       "org_affiliation                           object\n",
       "social_media                              object\n",
       "platforms_used                            object\n",
       "avg_daily_usage                           object\n",
       "aimlessUse_time                            int64\n",
       "distracted_time                            int64\n",
       "restlessness                               int64\n",
       "distraction_rating                         int64\n",
       "worried_rating                             int64\n",
       "difficultyConcentrating_rating             int64\n",
       "comparison_rating                          int64\n",
       "comparison_feeling_rating                  int64\n",
       "validation_rating                          int64\n",
       "depression_rating                          int64\n",
       "fluctInterest_rating                       int64\n",
       "sleepDifficulty_rating                     int64\n",
       "dtype: object"
      ]
     },
     "execution_count": 6,
     "metadata": {},
     "output_type": "execute_result"
    }
   ],
   "source": [
    "df['timestamp'] = pd.to_datetime(df['timestamp'])\n",
    "df.age = df.age.astype(int)\n",
    "df.dtypes"
   ]
  },
  {
   "cell_type": "markdown",
   "id": "a9c9f3a7",
   "metadata": {
    "papermill": {
     "duration": 0.00544,
     "end_time": "2023-12-02T01:10:23.294512",
     "exception": false,
     "start_time": "2023-12-02T01:10:23.289072",
     "status": "completed"
    },
    "tags": []
   },
   "source": [
    "Next, column 8 (avg_daily_usage) - Average daily social media usage\n",
    "Convert to ints\n",
    "- check for all unique values\n"
   ]
  },
  {
   "cell_type": "code",
   "execution_count": 7,
   "id": "4e5ae15d",
   "metadata": {
    "execution": {
     "iopub.execute_input": "2023-12-02T01:10:23.307183Z",
     "iopub.status.busy": "2023-12-02T01:10:23.306921Z",
     "iopub.status.idle": "2023-12-02T01:10:23.312243Z",
     "shell.execute_reply": "2023-12-02T01:10:23.311489Z"
    },
    "papermill": {
     "duration": 0.013639,
     "end_time": "2023-12-02T01:10:23.313804",
     "exception": false,
     "start_time": "2023-12-02T01:10:23.300165",
     "status": "completed"
    },
    "tags": []
   },
   "outputs": [
    {
     "data": {
      "text/plain": [
       "array(['Between 2 and 3 hours', 'More than 5 hours',\n",
       "       'Between 3 and 4 hours', 'Less than an Hour',\n",
       "       'Between 1 and 2 hours', 'Between 4 and 5 hours'], dtype=object)"
      ]
     },
     "execution_count": 7,
     "metadata": {},
     "output_type": "execute_result"
    }
   ],
   "source": [
    "df.avg_daily_usage.unique()"
   ]
  },
  {
   "cell_type": "markdown",
   "id": "1597d44d",
   "metadata": {
    "papermill": {
     "duration": 0.005497,
     "end_time": "2023-12-02T01:10:23.324956",
     "exception": false,
     "start_time": "2023-12-02T01:10:23.319459",
     "status": "completed"
    },
    "tags": []
   },
   "source": [
    "### Converting platform data \n",
    "\n",
    "Converting from wide to long data to use for analysis.\n",
    "Data was taken from main dataset and list of platforms was isolated into its own table using google sheets. "
   ]
  },
  {
   "cell_type": "code",
   "execution_count": 8,
   "id": "ce24b7da",
   "metadata": {
    "execution": {
     "iopub.execute_input": "2023-12-02T01:10:23.337506Z",
     "iopub.status.busy": "2023-12-02T01:10:23.337261Z",
     "iopub.status.idle": "2023-12-02T01:10:23.348331Z",
     "shell.execute_reply": "2023-12-02T01:10:23.347555Z"
    },
    "papermill": {
     "duration": 0.019414,
     "end_time": "2023-12-02T01:10:23.349986",
     "exception": false,
     "start_time": "2023-12-02T01:10:23.330572",
     "status": "completed"
    },
    "tags": []
   },
   "outputs": [
    {
     "data": {
      "text/html": [
       "<div>\n",
       "<style scoped>\n",
       "    .dataframe tbody tr th:only-of-type {\n",
       "        vertical-align: middle;\n",
       "    }\n",
       "\n",
       "    .dataframe tbody tr th {\n",
       "        vertical-align: top;\n",
       "    }\n",
       "\n",
       "    .dataframe thead th {\n",
       "        text-align: right;\n",
       "    }\n",
       "</style>\n",
       "<table border=\"1\" class=\"dataframe\">\n",
       "  <thead>\n",
       "    <tr style=\"text-align: right;\">\n",
       "      <th></th>\n",
       "      <th>id</th>\n",
       "      <th>plat1</th>\n",
       "      <th>plat2</th>\n",
       "      <th>plat3</th>\n",
       "      <th>plat4</th>\n",
       "      <th>plat5</th>\n",
       "      <th>plat6</th>\n",
       "      <th>plat7</th>\n",
       "      <th>plat8</th>\n",
       "      <th>plat9</th>\n",
       "    </tr>\n",
       "  </thead>\n",
       "  <tbody>\n",
       "    <tr>\n",
       "      <th>0</th>\n",
       "      <td>0</td>\n",
       "      <td>Facebook</td>\n",
       "      <td>Twitter</td>\n",
       "      <td>Instagram</td>\n",
       "      <td>YouTube</td>\n",
       "      <td>Discord</td>\n",
       "      <td>Reddit</td>\n",
       "      <td>NaN</td>\n",
       "      <td>NaN</td>\n",
       "      <td>NaN</td>\n",
       "    </tr>\n",
       "    <tr>\n",
       "      <th>1</th>\n",
       "      <td>1</td>\n",
       "      <td>Facebook</td>\n",
       "      <td>Twitter</td>\n",
       "      <td>Instagram</td>\n",
       "      <td>YouTube</td>\n",
       "      <td>Discord</td>\n",
       "      <td>Reddit</td>\n",
       "      <td>NaN</td>\n",
       "      <td>NaN</td>\n",
       "      <td>NaN</td>\n",
       "    </tr>\n",
       "    <tr>\n",
       "      <th>2</th>\n",
       "      <td>2</td>\n",
       "      <td>Facebook</td>\n",
       "      <td>Instagram</td>\n",
       "      <td>YouTube</td>\n",
       "      <td>Pinterest</td>\n",
       "      <td>NaN</td>\n",
       "      <td>NaN</td>\n",
       "      <td>NaN</td>\n",
       "      <td>NaN</td>\n",
       "      <td>NaN</td>\n",
       "    </tr>\n",
       "    <tr>\n",
       "      <th>3</th>\n",
       "      <td>3</td>\n",
       "      <td>Facebook</td>\n",
       "      <td>Instagram</td>\n",
       "      <td>NaN</td>\n",
       "      <td>NaN</td>\n",
       "      <td>NaN</td>\n",
       "      <td>NaN</td>\n",
       "      <td>NaN</td>\n",
       "      <td>NaN</td>\n",
       "      <td>NaN</td>\n",
       "    </tr>\n",
       "    <tr>\n",
       "      <th>4</th>\n",
       "      <td>4</td>\n",
       "      <td>Facebook</td>\n",
       "      <td>Instagram</td>\n",
       "      <td>YouTube</td>\n",
       "      <td>NaN</td>\n",
       "      <td>NaN</td>\n",
       "      <td>NaN</td>\n",
       "      <td>NaN</td>\n",
       "      <td>NaN</td>\n",
       "      <td>NaN</td>\n",
       "    </tr>\n",
       "  </tbody>\n",
       "</table>\n",
       "</div>"
      ],
      "text/plain": [
       "   id     plat1       plat2       plat3       plat4     plat5    plat6 plat7  \\\n",
       "0   0  Facebook     Twitter   Instagram     YouTube   Discord   Reddit   NaN   \n",
       "1   1  Facebook     Twitter   Instagram     YouTube   Discord   Reddit   NaN   \n",
       "2   2  Facebook   Instagram     YouTube   Pinterest       NaN      NaN   NaN   \n",
       "3   3  Facebook   Instagram         NaN         NaN       NaN      NaN   NaN   \n",
       "4   4  Facebook   Instagram     YouTube         NaN       NaN      NaN   NaN   \n",
       "\n",
       "  plat8 plat9  \n",
       "0   NaN   NaN  \n",
       "1   NaN   NaN  \n",
       "2   NaN   NaN  \n",
       "3   NaN   NaN  \n",
       "4   NaN   NaN  "
      ]
     },
     "execution_count": 8,
     "metadata": {},
     "output_type": "execute_result"
    }
   ],
   "source": [
    "del platform_wide['platforms_used']\n",
    "platform_wide.head()"
   ]
  },
  {
   "cell_type": "code",
   "execution_count": 9,
   "id": "6fb50bba",
   "metadata": {
    "execution": {
     "iopub.execute_input": "2023-12-02T01:10:23.363145Z",
     "iopub.status.busy": "2023-12-02T01:10:23.362474Z",
     "iopub.status.idle": "2023-12-02T01:10:23.371409Z",
     "shell.execute_reply": "2023-12-02T01:10:23.370499Z"
    },
    "papermill": {
     "duration": 0.017113,
     "end_time": "2023-12-02T01:10:23.373051",
     "exception": false,
     "start_time": "2023-12-02T01:10:23.355938",
     "status": "completed"
    },
    "tags": []
   },
   "outputs": [
    {
     "name": "stdout",
     "output_type": "stream",
     "text": [
      "<class 'pandas.core.frame.DataFrame'>\n",
      "RangeIndex: 474 entries, 0 to 473\n",
      "Data columns (total 10 columns):\n",
      " #   Column  Non-Null Count  Dtype \n",
      "---  ------  --------------  ----- \n",
      " 0   id      474 non-null    int64 \n",
      " 1   plat1   474 non-null    object\n",
      " 2   plat2   437 non-null    object\n",
      " 3   plat3   379 non-null    object\n",
      " 4   plat4   300 non-null    object\n",
      " 5   plat5   198 non-null    object\n",
      " 6   plat6   123 non-null    object\n",
      " 7   plat7   71 non-null     object\n",
      " 8   plat8   29 non-null     object\n",
      " 9   plat9   11 non-null     object\n",
      "dtypes: int64(1), object(9)\n",
      "memory usage: 37.2+ KB\n"
     ]
    }
   ],
   "source": [
    "platform_wide.info()"
   ]
  },
  {
   "cell_type": "code",
   "execution_count": 10,
   "id": "7e60eb6d",
   "metadata": {
    "execution": {
     "iopub.execute_input": "2023-12-02T01:10:23.386296Z",
     "iopub.status.busy": "2023-12-02T01:10:23.386073Z",
     "iopub.status.idle": "2023-12-02T01:10:23.397958Z",
     "shell.execute_reply": "2023-12-02T01:10:23.397160Z"
    },
    "papermill": {
     "duration": 0.020228,
     "end_time": "2023-12-02T01:10:23.399362",
     "exception": false,
     "start_time": "2023-12-02T01:10:23.379134",
     "status": "completed"
    },
    "tags": []
   },
   "outputs": [
    {
     "data": {
      "text/html": [
       "<div>\n",
       "<style scoped>\n",
       "    .dataframe tbody tr th:only-of-type {\n",
       "        vertical-align: middle;\n",
       "    }\n",
       "\n",
       "    .dataframe tbody tr th {\n",
       "        vertical-align: top;\n",
       "    }\n",
       "\n",
       "    .dataframe thead th {\n",
       "        text-align: right;\n",
       "    }\n",
       "</style>\n",
       "<table border=\"1\" class=\"dataframe\">\n",
       "  <thead>\n",
       "    <tr style=\"text-align: right;\">\n",
       "      <th></th>\n",
       "      <th>id</th>\n",
       "      <th>Platform</th>\n",
       "    </tr>\n",
       "  </thead>\n",
       "  <tbody>\n",
       "    <tr>\n",
       "      <th>0</th>\n",
       "      <td>0</td>\n",
       "      <td>Facebook</td>\n",
       "    </tr>\n",
       "    <tr>\n",
       "      <th>1</th>\n",
       "      <td>1</td>\n",
       "      <td>Facebook</td>\n",
       "    </tr>\n",
       "    <tr>\n",
       "      <th>2</th>\n",
       "      <td>2</td>\n",
       "      <td>Facebook</td>\n",
       "    </tr>\n",
       "    <tr>\n",
       "      <th>3</th>\n",
       "      <td>3</td>\n",
       "      <td>Facebook</td>\n",
       "    </tr>\n",
       "    <tr>\n",
       "      <th>4</th>\n",
       "      <td>4</td>\n",
       "      <td>Facebook</td>\n",
       "    </tr>\n",
       "  </tbody>\n",
       "</table>\n",
       "</div>"
      ],
      "text/plain": [
       "   id  Platform\n",
       "0   0  Facebook\n",
       "1   1  Facebook\n",
       "2   2  Facebook\n",
       "3   3  Facebook\n",
       "4   4  Facebook"
      ]
     },
     "execution_count": 10,
     "metadata": {},
     "output_type": "execute_result"
    }
   ],
   "source": [
    "platform_long = platform_wide.melt(id_vars='id',value_name='Platform').dropna()\n",
    "#dropping null data\n",
    "del platform_long['variable']\n",
    "platform_long.head()"
   ]
  },
  {
   "cell_type": "code",
   "execution_count": 11,
   "id": "5c7cd329",
   "metadata": {
    "execution": {
     "iopub.execute_input": "2023-12-02T01:10:23.412561Z",
     "iopub.status.busy": "2023-12-02T01:10:23.412320Z",
     "iopub.status.idle": "2023-12-02T01:10:23.417557Z",
     "shell.execute_reply": "2023-12-02T01:10:23.416899Z"
    },
    "papermill": {
     "duration": 0.013483,
     "end_time": "2023-12-02T01:10:23.418955",
     "exception": false,
     "start_time": "2023-12-02T01:10:23.405472",
     "status": "completed"
    },
    "tags": []
   },
   "outputs": [
    {
     "data": {
      "text/plain": [
       "array(['Facebook', 'Reddit', 'YouTube', 'Twitter', 'Instagram', 'Discord',\n",
       "       'Pinterest', ' Twitter', ' Instagram', ' Pinterest', ' YouTube',\n",
       "       ' Discord', ' Snapchat', ' Reddit', ' TikTok'], dtype=object)"
      ]
     },
     "execution_count": 11,
     "metadata": {},
     "output_type": "execute_result"
    }
   ],
   "source": [
    "platform_long['Platform'].unique()"
   ]
  },
  {
   "cell_type": "markdown",
   "id": "39b79d07",
   "metadata": {
    "papermill": {
     "duration": 0.006118,
     "end_time": "2023-12-02T01:10:23.431260",
     "exception": false,
     "start_time": "2023-12-02T01:10:23.425142",
     "status": "completed"
    },
    "tags": []
   },
   "source": [
    "Duplicates exist due to extra spaces. Lets remove those, leaving us with 9 unique instances or 9 social media platforms."
   ]
  },
  {
   "cell_type": "code",
   "execution_count": 12,
   "id": "690f44de",
   "metadata": {
    "execution": {
     "iopub.execute_input": "2023-12-02T01:10:23.445001Z",
     "iopub.status.busy": "2023-12-02T01:10:23.444675Z",
     "iopub.status.idle": "2023-12-02T01:10:23.451873Z",
     "shell.execute_reply": "2023-12-02T01:10:23.450977Z"
    },
    "papermill": {
     "duration": 0.015918,
     "end_time": "2023-12-02T01:10:23.453458",
     "exception": false,
     "start_time": "2023-12-02T01:10:23.437540",
     "status": "completed"
    },
    "tags": []
   },
   "outputs": [
    {
     "data": {
      "text/plain": [
       "array(['Facebook', 'Reddit', 'YouTube', 'Twitter', 'Instagram', 'Discord',\n",
       "       'Pinterest', 'Snapchat', 'TikTok'], dtype=object)"
      ]
     },
     "execution_count": 12,
     "metadata": {},
     "output_type": "execute_result"
    }
   ],
   "source": [
    "platform_long.Platform = platform_long.Platform.str.strip()\n",
    "platform_long['Platform'].unique()"
   ]
  },
  {
   "cell_type": "markdown",
   "id": "752de0c2",
   "metadata": {
    "papermill": {
     "duration": 0.006082,
     "end_time": "2023-12-02T01:10:23.465957",
     "exception": false,
     "start_time": "2023-12-02T01:10:23.459875",
     "status": "completed"
    },
    "tags": []
   },
   "source": [
    "## Visualizations"
   ]
  },
  {
   "cell_type": "code",
   "execution_count": 13,
   "id": "51b1d227",
   "metadata": {
    "execution": {
     "iopub.execute_input": "2023-12-02T01:10:23.479878Z",
     "iopub.status.busy": "2023-12-02T01:10:23.479351Z",
     "iopub.status.idle": "2023-12-02T01:10:23.485613Z",
     "shell.execute_reply": "2023-12-02T01:10:23.485024Z"
    },
    "papermill": {
     "duration": 0.015001,
     "end_time": "2023-12-02T01:10:23.487180",
     "exception": false,
     "start_time": "2023-12-02T01:10:23.472179",
     "status": "completed"
    },
    "tags": []
   },
   "outputs": [
    {
     "data": {
      "text/plain": [
       "Platform\n",
       "YouTube      406\n",
       "Facebook     404\n",
       "Instagram    354\n",
       "Discord      196\n",
       "Snapchat     178\n",
       "Pinterest    144\n",
       "Twitter      128\n",
       "Reddit       122\n",
       "TikTok        90\n",
       "Name: count, dtype: int64"
      ]
     },
     "execution_count": 13,
     "metadata": {},
     "output_type": "execute_result"
    }
   ],
   "source": [
    "platform_long['Platform'].value_counts()"
   ]
  },
  {
   "cell_type": "markdown",
   "id": "9b604563",
   "metadata": {
    "papermill": {
     "duration": 0.006225,
     "end_time": "2023-12-02T01:10:23.499862",
     "exception": false,
     "start_time": "2023-12-02T01:10:23.493637",
     "status": "completed"
    },
    "tags": []
   },
   "source": [
    "2022 total mentions, and for each platform, how many times each was mentioned. Below, we vizualize this in a pie chart."
   ]
  },
  {
   "cell_type": "code",
   "execution_count": 14,
   "id": "1b7b5ad1",
   "metadata": {
    "execution": {
     "iopub.execute_input": "2023-12-02T01:10:23.514366Z",
     "iopub.status.busy": "2023-12-02T01:10:23.513885Z",
     "iopub.status.idle": "2023-12-02T01:10:23.518341Z",
     "shell.execute_reply": "2023-12-02T01:10:23.517807Z"
    },
    "papermill": {
     "duration": 0.013284,
     "end_time": "2023-12-02T01:10:23.519890",
     "exception": false,
     "start_time": "2023-12-02T01:10:23.506606",
     "status": "completed"
    },
    "tags": []
   },
   "outputs": [],
   "source": [
    "percents = [406/2022*100,\n",
    "404/2022*100,\n",
    "354/2022*100,\n",
    "196/2022*100,\n",
    "178/2022*100,\n",
    "144/2022*100,\n",
    "128/2022*100,\n",
    "122/2022*100,\n",
    "90/2022*100]\n",
    "percents\n",
    "labels = ['Youtube','Facebook','Instagram','Discord','Snapchat','Pinterest','Twitter','Reddit','TikTok']"
   ]
  },
  {
   "cell_type": "code",
   "execution_count": 15,
   "id": "fa503988",
   "metadata": {
    "execution": {
     "iopub.execute_input": "2023-12-02T01:10:23.534024Z",
     "iopub.status.busy": "2023-12-02T01:10:23.533570Z",
     "iopub.status.idle": "2023-12-02T01:10:23.710281Z",
     "shell.execute_reply": "2023-12-02T01:10:23.709398Z"
    },
    "papermill": {
     "duration": 0.185823,
     "end_time": "2023-12-02T01:10:23.712188",
     "exception": false,
     "start_time": "2023-12-02T01:10:23.526365",
     "status": "completed"
    },
    "tags": []
   },
   "outputs": [
    {
     "data": {
      "text/plain": [
       "([<matplotlib.patches.Wedge at 0x7f31ade11480>,\n",
       "  <matplotlib.patches.Wedge at 0x7f31add7ac20>,\n",
       "  <matplotlib.patches.Wedge at 0x7f31ade12170>,\n",
       "  <matplotlib.patches.Wedge at 0x7f31ade12800>,\n",
       "  <matplotlib.patches.Wedge at 0x7f31ade12e90>,\n",
       "  <matplotlib.patches.Wedge at 0x7f31ade13520>,\n",
       "  <matplotlib.patches.Wedge at 0x7f31ade13bb0>,\n",
       "  <matplotlib.patches.Wedge at 0x7f31adc68280>,\n",
       "  <matplotlib.patches.Wedge at 0x7f31adc68910>],\n",
       " [Text(0.8883086267772718, 0.6487740620532527, 'Youtube'),\n",
       "  Text(-0.34446668185751805, 1.044673492096967, 'Facebook'),\n",
       "  Text(-1.0969423945880066, 0.08195964223646898, 'Instagram'),\n",
       "  Text(-0.7820357136442362, -0.7735762034763933, 'Discord'),\n",
       "  Text(-0.22903721290219622, -1.075891237582124, 'Snapchat'),\n",
       "  Text(0.315119683406832, -1.0538973313988313, 'Pinterest'),\n",
       "  Text(0.7196420110648919, -0.8319347185389478, 'Twitter'),\n",
       "  Text(0.9811138510335712, -0.4974088974978992, 'Reddit'),\n",
       "  Text(1.0892631355815423, -0.15331608351072276, 'TikTok')],\n",
       " [Text(0.4845319782421482, 0.35387676111995603, '20.1%'),\n",
       "  Text(-0.18789091737682803, 0.5698219047801637, '20.0%'),\n",
       "  Text(-0.5983322152298217, 0.04470525940171035, '17.5%'),\n",
       "  Text(-0.4265649347150379, -0.421950656441669, '9.7%'),\n",
       "  Text(-0.12492938885574337, -0.5868497659538857, '8.8%'),\n",
       "  Text(0.1718834636764538, -0.5748530898539079, '7.1%'),\n",
       "  Text(0.3925320060353955, -0.45378257374851694, '6.3%'),\n",
       "  Text(0.5351530096546752, -0.27131394408976317, '6.0%'),\n",
       "  Text(0.594143528499023, -0.0836269546422124, '4.5%')])"
      ]
     },
     "execution_count": 15,
     "metadata": {},
     "output_type": "execute_result"
    },
    {
     "data": {
      "image/png": "[encoded data removed]",
      "text/plain": [
       "<Figure size 640x480 with 1 Axes>"
      ]
     },
     "metadata": {},
     "output_type": "display_data"
    }
   ],
   "source": [
    "fig, ax = mp.subplots()\n",
    "ax.pie(percents,autopct='%1.1f%%',labels =labels)"
   ]
  },
  {
   "cell_type": "markdown",
   "id": "18513dce",
   "metadata": {
    "papermill": {
     "duration": 0.009228,
     "end_time": "2023-12-02T01:10:23.730645",
     "exception": false,
     "start_time": "2023-12-02T01:10:23.721417",
     "status": "completed"
    },
    "tags": []
   },
   "source": [
    "Subjects were asked which platforms they used most often. Here is how often each platform was mentioned. "
   ]
  }
 ],
 "metadata": {
  "kaggle": {
   "accelerator": "none",
   "dataSources": [
    {
     "datasetId": 2752689,
     "sourceId": 6154312,
     "sourceType": "datasetVersion"
    },
    {
     "datasetId": 4077510,
     "sourceId": 7078695,
     "sourceType": "datasetVersion"
    }
   ],
   "dockerImageVersionId": 30587,
   "isGpuEnabled": false,
   "isInternetEnabled": true,
   "language": "python",
   "sourceType": "notebook"
  },
  "kernelspec": {
   "display_name": "Python 3",
   "language": "python",
   "name": "python3"
  },
  "language_info": {
   "codemirror_mode": {
    "name": "ipython",
    "version": 3
   },
   "file_extension": ".py",
   "mimetype": "text/x-python",
   "name": "python",
   "nbconvert_exporter": "python",
   "pygments_lexer": "ipython3",
   "version": "3.10.12"
  },
  "papermill": {
   "default_parameters": {},
   "duration": 3.583635,
   "end_time": "2023-12-02T01:10:24.056926",
   "environment_variables": {},
   "exception": null,
   "input_path": "__notebook__.ipynb",
   "output_path": "__notebook__.ipynb",
   "parameters": {},
   "start_time": "2023-12-02T01:10:20.473291",
   "version": "2.4.0"
  }
 },
 "nbformat": 4,
 "nbformat_minor": 5
}
